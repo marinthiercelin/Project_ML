{
 "cells": [
  {
   "cell_type": "code",
   "execution_count": 11,
   "metadata": {},
   "outputs": [],
   "source": [
    "import Helpers.helpers as helper\n",
    "import Helpers.implementations as tool\n",
    "import Visualization.visu as visu\n",
    "import cleaner\n",
    "import numpy as np"
   ]
  },
  {
   "cell_type": "code",
   "execution_count": 12,
   "metadata": {},
   "outputs": [],
   "source": [
    "y,x, ids = helper.load_csv_data('../data/train.csv', True)\n",
    "\n",
    "path = '../data/Figures/1DwithDeg/'\n"
   ]
  },
  {
   "cell_type": "code",
   "execution_count": 100,
   "metadata": {},
   "outputs": [],
   "source": [
    "def filter_bad_samples(x, freedom=0.2):\n",
    "    \"\"\"removes all samples from x that have a percentage \n",
    "    of unknown features that is greater or equal to freedom%\"\"\"\n",
    "    \n",
    "    D = x.shape[1]\n",
    "    max_bad = int(D * freedom)\n",
    "    \n",
    "    return xCl[(xCl < -900).sum(axis=1) < max_bad]"
   ]
  },
  {
   "cell_type": "code",
   "execution_count": 101,
   "metadata": {},
   "outputs": [
    {
     "name": "stdout",
     "output_type": "stream",
     "text": [
      "4\n"
     ]
    }
   ],
   "source": [
    "xCl = cleaner.cleanFeatures(x)\n",
    "# xCl = cleaner.fillMissingValuesWithY(xCl,y)\n",
    "filter_bad_samples(xCl)"
   ]
  },
  {
   "cell_type": "code",
   "execution_count": 113,
   "metadata": {},
   "outputs": [
    {
     "data": {
      "text/plain": [
       "(4438, 23)"
      ]
     },
     "execution_count": 113,
     "metadata": {},
     "output_type": "execute_result"
    }
   ],
   "source": [
    "xCl[(xCl < -900).sum(axis=1) < 4].shape"
   ]
  },
  {
   "cell_type": "code",
   "execution_count": 57,
   "metadata": {},
   "outputs": [
    {
     "data": {
      "text/plain": [
       "(23,)"
      ]
     },
     "execution_count": 57,
     "metadata": {},
     "output_type": "execute_result"
    }
   ],
   "source": [
    "(xCl != -999).sum(axis=0).shape"
   ]
  }
 ],
 "metadata": {
  "kernelspec": {
   "display_name": "Python 3",
   "language": "python",
   "name": "python3"
  },
  "language_info": {
   "codemirror_mode": {
    "name": "ipython",
    "version": 3
   },
   "file_extension": ".py",
   "mimetype": "text/x-python",
   "name": "python",
   "nbconvert_exporter": "python",
   "pygments_lexer": "ipython3",
   "version": "3.6.1"
  }
 },
 "nbformat": 4,
 "nbformat_minor": 2
}
