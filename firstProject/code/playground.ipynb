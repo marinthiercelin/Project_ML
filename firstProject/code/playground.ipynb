{
 "cells": [
  {
   "cell_type": "code",
   "execution_count": 74,
   "metadata": {},
   "outputs": [],
   "source": [
    "import Helpers.helpers as helper\n",
    "import Helpers.implementations as tool\n",
    "import Visualization.visu as visu\n",
    "import cleaner\n",
    "import numpy as np"
   ]
  },
  {
   "cell_type": "code",
   "execution_count": 75,
   "metadata": {},
   "outputs": [],
   "source": [
    "y,x, ids = helper.load_csv_data('../data/train.csv', True)"
   ]
  },
  {
   "cell_type": "code",
   "execution_count": 95,
   "metadata": {},
   "outputs": [],
   "source": [
    "def select_bad_samples(x, freedom=0.2):\n",
    "    D = x.shape[1]\n",
    "    max_bad = int(D * freedom)\n",
    "    \n",
    "    return (x < -900).sum(axis=1) < max_bad"
   ]
  },
  {
   "cell_type": "code",
   "execution_count": 100,
   "metadata": {},
   "outputs": [],
   "source": [
    "def filter_bad_samples(x, y, freedom=0.2):\n",
    "    \"\"\"removes all samples from x that have a percentage \n",
    "    of unknown features that is greater or equal to freedom%\"\"\"\n",
    "    \n",
    "    D = x.shape[1]\n",
    "    max_bad = int(D * freedom)\n",
    "    \n",
    "    indices = select_bad_samples(x, freedom=0.2)\n",
    "    return x[indices], y[indices]"
   ]
  },
  {
   "cell_type": "code",
   "execution_count": 77,
   "metadata": {},
   "outputs": [],
   "source": [
    "def filter_bad_features(x, freedom=0.6):\n",
    "    \"\"\"removes all features from x that have a percentage \n",
    "    of unknown samples that is greater or equal to freedom%\"\"\"\n",
    "    \n",
    "    N, D = x.shape\n",
    "    max_bad = int(N * freedom)\n",
    "    \n",
    "    return x[:,(x < -900).sum(axis=0) < max_bad]"
   ]
  },
  {
   "cell_type": "code",
   "execution_count": 78,
   "metadata": {},
   "outputs": [
    {
     "name": "stdout",
     "output_type": "stream",
     "text": [
      "[[ 138.47    51.655   97.827 ...,    2.15     0.444  113.497]\n",
      " [ 219.057   72.461  124.835 ...,   -0.708   -0.642   50.396]\n",
      " [  90.801   27.787   65.373 ...,    0.778   -2.209   62.766]\n",
      " ..., \n",
      " [ 142.347    7.389   99.212 ...,    2.351   -1.766   97.068]\n",
      " [  78.162   46.335   60.136 ...,    2.91     1.419   32.44 ]\n",
      " [ 130.042    4.073   67.819 ...,   -3.342   -3.098   51.037]] (5000, 23)\n"
     ]
    }
   ],
   "source": [
    "f1 = filter_bad_features(x)\n",
    "print(f1, f1.shape)"
   ]
  },
  {
   "cell_type": "code",
   "execution_count": 103,
   "metadata": {},
   "outputs": [
    {
     "name": "stdout",
     "output_type": "stream",
     "text": [
      "[[ 138.47    51.655   97.827 ...,    2.15     0.444  113.497]\n",
      " [ 219.057   72.461  124.835 ...,   -0.708   -0.642   50.396]\n",
      " [  90.801   27.787   65.373 ...,    0.778   -2.209   62.766]\n",
      " ..., \n",
      " [ 142.347    7.389   99.212 ...,    2.351   -1.766   97.068]\n",
      " [  78.162   46.335   60.136 ...,    2.91     1.419   32.44 ]\n",
      " [ 130.042    4.073   67.819 ...,   -3.342   -3.098   51.037]] (4438, 23)\n",
      "[ 1. -1. -1. ...,  1. -1.  1.] (4438,)\n"
     ]
    }
   ],
   "source": [
    "f2, fy = filter_bad_samples(f1, y, .2)\n",
    "print(f2, f2.shape)\n",
    "print(fy, fy.shape)"
   ]
  }
 ],
 "metadata": {
  "kernelspec": {
   "display_name": "Python 3",
   "language": "python",
   "name": "python3"
  },
  "language_info": {
   "codemirror_mode": {
    "name": "ipython",
    "version": 3
   },
   "file_extension": ".py",
   "mimetype": "text/x-python",
   "name": "python",
   "nbconvert_exporter": "python",
   "pygments_lexer": "ipython3",
   "version": "3.6.1"
  }
 },
 "nbformat": 4,
 "nbformat_minor": 2
}
