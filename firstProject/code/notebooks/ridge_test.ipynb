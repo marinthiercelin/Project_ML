{
 "cells": [
  {
   "cell_type": "code",
   "execution_count": 216,
   "metadata": {
    "collapsed": true
   },
   "outputs": [],
   "source": [
    "import sys\n",
    "sys.path.insert(0, '..')\n",
    "# Useful starting lines\n",
    "%matplotlib inline\n",
    "import matplotlib.pyplot as plt\n",
    "%load_ext autoreload\n",
    "%autoreload 2"
   ]
  },
  {
   "cell_type": "code",
   "execution_count": 2,
   "metadata": {},
   "outputs": [],
   "source": [
    "import Helpers.helpers as helper\n",
    "import Helpers.cleaner as cleaner\n",
    "import numpy as np\n",
    "import Helpers.implementations as imp\n"
   ]
  },
  {
   "cell_type": "code",
   "execution_count": 3,
   "metadata": {},
   "outputs": [],
   "source": [
    "x,y = helper.load_clean_data('../../data/x_train.npy', '../../data/y_train.npy')\n"
   ]
  },
  {
   "cell_type": "code",
   "execution_count": 5,
   "metadata": {},
   "outputs": [],
   "source": [
    "def toDeg(x,degree):\n",
    "    res = x\n",
    "    for i in range(2,degree +1):\n",
    "        power = np.power(x,i)\n",
    "        res = np.c_[res,power]\n",
    "    return res\n",
    "\n",
    "def addConstant(x):\n",
    "    return np.c_[np.ones((x.shape[0],1)),x]"
   ]
  },
  {
   "cell_type": "code",
   "execution_count": 7,
   "metadata": {},
   "outputs": [],
   "source": [
    "xpow = addConstant(toDeg(x, 3))\n"
   ]
  },
  {
   "cell_type": "code",
   "execution_count": 8,
   "metadata": {},
   "outputs": [],
   "source": [
    "x_tr,y_tr,x_te,y_te = imp.split_data(xpow,y,0.5,seed = 9)\n"
   ]
  },
  {
   "cell_type": "code",
   "execution_count": 31,
   "metadata": {},
   "outputs": [],
   "source": [
    "loss,w = imp.ridge_regression(y_tr,x_tr,0)"
   ]
  },
  {
   "cell_type": "code",
   "execution_count": 32,
   "metadata": {},
   "outputs": [],
   "source": [
    "y_pred = helper.predict_labels(w,x_te)"
   ]
  },
  {
   "cell_type": "code",
   "execution_count": 33,
   "metadata": {},
   "outputs": [],
   "source": [
    "res = np.array([(1 if(y_pred[i] == y_te[i]) else 0) for i in range(y_te.shape[0])])"
   ]
  },
  {
   "cell_type": "code",
   "execution_count": 34,
   "metadata": {},
   "outputs": [
    {
     "name": "stdout",
     "output_type": "stream",
     "text": [
      "0.786678458803\n"
     ]
    }
   ],
   "source": [
    "print(res.sum()/len(res))"
   ]
  },
  {
   "cell_type": "code",
   "execution_count": 172,
   "metadata": {},
   "outputs": [
    {
     "name": "stdout",
     "output_type": "stream",
     "text": [
      "l=  0  d=  4  score=  0.790930774797  loss=  0.076667316385\n",
      "l=  0  d=  5  score=  0.792672795004  loss=  0.0757621348459\n",
      "l=  0  d=  6  score=  0.789421023951  loss=  0.0768037450645\n",
      "l=  0.0001  d=  4  score=  0.775315126989  loss=  0.0814069630877\n",
      "l=  0.0001  d=  5  score=  0.778182760253  loss=  0.0803513763763\n",
      "l=  0.0001  d=  6  score=  0.778933168958  loss=  0.0800476298695\n"
     ]
    }
   ],
   "source": [
    "for lambda_ in [0,0.0001]:\n",
    "    for degree in [4,5,6]:\n",
    "        xpow = addConstant(toDeg(x, degree))\n",
    "        x_tr,y_tr,x_te,y_te = imp.split_data(xpow,y,0.5,seed = 9)\n",
    "        loss,w = imp.ridge_regression(y_tr,x_tr,lambda_)\n",
    "        y_pred = helper.predict_labels(w,x_te)\n",
    "        res = np.array([(1 if(y_pred[i] == y_te[i]) else 0) for i in range(y_te.shape[0])])\n",
    "        print(\"l= \", lambda_,\" d= \", degree, \" score= \", res.sum()/len(res),\" loss= \", loss)\n",
    "        "
   ]
  },
  {
   "cell_type": "code",
   "execution_count": 17,
   "metadata": {},
   "outputs": [
    {
     "name": "stdout",
     "output_type": "stream",
     "text": [
      "0.0759081131882\n"
     ]
    }
   ],
   "source": [
    "#parameters\n",
    "deg = 5\n",
    "\n",
    "xpow = addConstant(toDeg(x, deg))\n",
    "loss,w = imp.least_squares(y,xpow)\n",
    "\n",
    "print(loss)"
   ]
  },
  {
   "cell_type": "code",
   "execution_count": 208,
   "metadata": {
    "collapsed": true
   },
   "outputs": [],
   "source": [
    "def build_k_indices(y, k_fold, seed):\n",
    "    \"\"\"build k indices for k-fold.\"\"\"\n",
    "    num_row = y.shape[0]\n",
    "    interval = int(num_row / k_fold)\n",
    "    np.random.seed(seed)\n",
    "    indices = np.random.permutation(num_row)\n",
    "    k_indices = [indices[k * interval: (k + 1) * interval]\n",
    "                 for k in range(k_fold)]\n",
    "    return np.array(k_indices)"
   ]
  },
  {
   "cell_type": "code",
   "execution_count": 226,
   "metadata": {
    "collapsed": true
   },
   "outputs": [],
   "source": [
    "def cross_validation(y, x, k_indices, k):\n",
    "    \"\"\"return the loss of ridge regression.\"\"\"\n",
    "    # ***************************************************\n",
    "    # INSERT YOUR CODE HERE\n",
    "    # get k'th subgroup in test, others in train: TODO\n",
    "    # ***************************************************\n",
    "    x_test = x[k_indices[k]]\n",
    "    y_test = y[k_indices[k]]\n",
    "    all_ind = np.array(list(range(x.shape[0])))\n",
    "    rest_ind = np.setdiff1d(all_ind,k_indices[k])\n",
    "    x_train = x[rest_ind]\n",
    "    y_train = y[rest_ind]\n",
    "    loss,w = imp.least_squares(y_train,x_train)\n",
    "    loss_tr = imp.compute_mse(y_train,x_train,w)\n",
    "    loss_te = imp.compute_mse(y_test,x_test,w)\n",
    "    return w,loss_tr, loss_te"
   ]
  },
  {
   "cell_type": "code",
   "execution_count": 227,
   "metadata": {
    "collapsed": true
   },
   "outputs": [],
   "source": [
    "# -*- coding: utf-8 -*-\n",
    "\"\"\"a function of ploting figures.\"\"\"\n",
    "import numpy as np\n",
    "import matplotlib.pyplot as plt\n",
    "\n",
    "\n",
    "def cross_validation_visualization(lambds, mse_tr, mse_te):\n",
    "    \"\"\"visualization the curves of mse_tr and mse_te.\"\"\"\n",
    "    plt.semilogx(lambds, mse_tr, marker=\".\", color='b', label='train error')\n",
    "    plt.semilogx(lambds, mse_te, marker=\".\", color='r', label='test error')\n",
    "    plt.xlabel(\"lambda\")\n",
    "    plt.ylabel(\"rmse\")\n",
    "    plt.title(\"cross validation\")\n",
    "    plt.legend(loc=2)\n",
    "    plt.grid(True)\n",
    "    plt.savefig(\"cross_validation\")"
   ]
  },
  {
   "cell_type": "code",
   "execution_count": 232,
   "metadata": {},
   "outputs": [
    {
     "name": "stdout",
     "output_type": "stream",
     "text": [
      "3 0.786476502722 0.394872562311 0.395020028507\n",
      "4 0.791305046968 0.391824220366 0.3919905432\n",
      "5 0.793176610371 0.38961614845 0.389777307025\n",
      "6 0.792408331361 0.390643949434 0.390843533442\n",
      "7 0.778985782372 0.404186349607 0.404275017546\n"
     ]
    }
   ],
   "source": [
    "\n",
    "\n",
    "def cross_validation_demo():\n",
    "    seed = 1\n",
    "    degrees = [3,4,5,6,7]\n",
    "    k_fold = 4\n",
    "    lambdas = np.logspace(-4, 0, 10)\n",
    "    # split data in k fold\n",
    "    k_indices = build_k_indices(y, k_fold, seed)\n",
    "    # define lists to store the loss of training data and test data\n",
    "    for degree in degrees:\n",
    "        x_pow = addConstant(toDeg(x,degree))\n",
    "        sum_te = 0\n",
    "        sum_tr = 0\n",
    "        sum_w = np.array(x_pow.shape[1]*[0.0])\n",
    "        for k in range(k_fold):\n",
    "            w,mse_tr,mse_te = cross_validation(y,x_pow,k_indices,k)\n",
    "            #print(w.shape)\n",
    "            sum_tr += np.sqrt(2*mse_tr)\n",
    "            sum_te += np.sqrt(2*mse_te)\n",
    "            sum_w += w\n",
    "        mean_w = sum_w/(1.0*k_fold)\n",
    "        mean_error_tr = sum_tr/(1.0*k_fold)\n",
    "        mean_error_te = sum_te/(1.0*k_fold)\n",
    "        #print('shape', mean_w.shape)\n",
    "        y_pred = helper.predict_labels(mean_w,x_pow)\n",
    "        res = np.array([(1 if(y_pred[i] == y[i]) else 0) for i in range(y.shape[0])])\n",
    "        print(degree,res.mean(),mean_error_tr,mean_error_te)\n",
    "\n",
    "cross_validation_demo()"
   ]
  },
  {
   "cell_type": "code",
   "execution_count": 242,
   "metadata": {},
   "outputs": [
    {
     "name": "stdout",
     "output_type": "stream",
     "text": [
      "5 0.793131942987 0.389613519902 0.389751710664\n"
     ]
    }
   ],
   "source": [
    "#par\n",
    "degree = 5\n",
    "k_fold = 4\n",
    "seed = 7\n",
    "k_indices = build_k_indices(y, k_fold, seed)\n",
    "\n",
    "x_pow = addConstant(toDeg(x,degree))\n",
    "sum_te = 0\n",
    "sum_tr = 0\n",
    "sum_w = np.array(x_pow.shape[1]*[0.0])\n",
    "for k in range(k_fold):\n",
    "    w,mse_tr,mse_te = cross_validation(y,x_pow,k_indices,k)\n",
    "    #print(w.shape)\n",
    "    sum_tr += np.sqrt(2*mse_tr)\n",
    "    sum_te += np.sqrt(2*mse_te)\n",
    "    sum_w += w\n",
    "mean_w = sum_w/(1.0*k_fold)\n",
    "mean_error_tr = sum_tr/(1.0*k_fold)\n",
    "mean_error_te = sum_te/(1.0*k_fold)\n",
    "#print('shape', mean_w.shape)\n",
    "y_pred = helper.predict_labels(mean_w,x_pow)\n",
    "res = np.array([(1 if(y_pred[i] == y[i]) else 0) for i in range(y.shape[0])])\n",
    "print(degree,res.mean(),mean_error_tr,mean_error_te)"
   ]
  },
  {
   "cell_type": "code",
   "execution_count": 243,
   "metadata": {
    "collapsed": true
   },
   "outputs": [],
   "source": [
    "x_test,y_test = helper.load_clean_data('../../data/x_test.npy', '../../data/y_test.npy')"
   ]
  },
  {
   "cell_type": "code",
   "execution_count": 244,
   "metadata": {
    "collapsed": true
   },
   "outputs": [],
   "source": [
    "xpow_test = addConstant(toDeg(x_test, degree))"
   ]
  },
  {
   "cell_type": "code",
   "execution_count": 248,
   "metadata": {},
   "outputs": [
    {
     "name": "stdout",
     "output_type": "stream",
     "text": [
      "19\n",
      "96\n",
      "96\n"
     ]
    }
   ],
   "source": [
    "print(x.shape[1])\n",
    "print(x_pow.shape[1])\n",
    "print(xpow_test.shape[1])"
   ]
  },
  {
   "cell_type": "code",
   "execution_count": 249,
   "metadata": {
    "collapsed": true
   },
   "outputs": [],
   "source": [
    "y_pred = helper.predict_labels(w,xpow_test)"
   ]
  },
  {
   "cell_type": "code",
   "execution_count": 250,
   "metadata": {
    "collapsed": true
   },
   "outputs": [],
   "source": [
    "y_pred = helper.changeYfromBinary(y_pred)"
   ]
  },
  {
   "cell_type": "code",
   "execution_count": 251,
   "metadata": {},
   "outputs": [],
   "source": [
    "a,b, ids = helper.load_csv_data('../../data/test.csv')"
   ]
  },
  {
   "cell_type": "code",
   "execution_count": 252,
   "metadata": {
    "collapsed": true
   },
   "outputs": [],
   "source": [
    "helper.create_csv_submission(ids,y_pred,'../../data/subm3.csv')"
   ]
  }
 ],
 "metadata": {
  "kernelspec": {
   "display_name": "Python 3",
   "language": "python",
   "name": "python3"
  },
  "language_info": {
   "codemirror_mode": {
    "name": "ipython",
    "version": 3
   },
   "file_extension": ".py",
   "mimetype": "text/x-python",
   "name": "python",
   "nbconvert_exporter": "python",
   "pygments_lexer": "ipython3",
   "version": "3.6.1"
  }
 },
 "nbformat": 4,
 "nbformat_minor": 2
}
