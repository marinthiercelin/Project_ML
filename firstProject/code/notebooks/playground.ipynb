{
 "cells": [
  {
   "cell_type": "code",
   "execution_count": 1,
   "metadata": {},
   "outputs": [],
   "source": [
    "import sys\n",
    "sys.path.insert(0, '..')"
   ]
  },
  {
   "cell_type": "code",
   "execution_count": 2,
   "metadata": {},
   "outputs": [],
   "source": [
    "import Helpers.helpers as helper\n",
    "import Helpers.implementations as tool\n",
    "import Visualization.visu as visu\n",
    "import cleaner\n",
    "import numpy as np"
   ]
  },
  {
   "cell_type": "code",
   "execution_count": 3,
   "metadata": {},
   "outputs": [],
   "source": [
    "y,x, ids = helper.load_csv_data('../../data/train.csv', False)"
   ]
  },
  {
   "cell_type": "code",
   "execution_count": 4,
   "metadata": {},
   "outputs": [],
   "source": [
    "def select_bad_samples(x, freedom=0.2):\n",
    "    D = x.shape[1]\n",
    "    max_bad = int(D * freedom)\n",
    "    \n",
    "    return (x < -900).sum(axis=1) < max_bad"
   ]
  },
  {
   "cell_type": "code",
   "execution_count": 5,
   "metadata": {},
   "outputs": [],
   "source": [
    "def filter_bad_samples(x, y, freedom=0.2):\n",
    "    \"\"\"removes all samples from x that have a percentage \n",
    "    of unknown features that is greater or equal to freedom%\"\"\"\n",
    "    \n",
    "    D = x.shape[1]\n",
    "    max_bad = int(D * freedom)\n",
    "    \n",
    "    indices = select_bad_samples(x, freedom=0.2)\n",
    "    return x[indices], y[indices]"
   ]
  },
  {
   "cell_type": "code",
   "execution_count": 6,
   "metadata": {},
   "outputs": [],
   "source": [
    "def filter_bad_features(x, freedom=0.6):\n",
    "    \"\"\"removes all features from x that have a percentage \n",
    "    of unknown samples that is greater or equal to freedom%\"\"\"\n",
    "    \n",
    "    N, D = x.shape\n",
    "    max_bad = int(N * freedom)\n",
    "    \n",
    "    return x[:,(x < -900).sum(axis=0) < max_bad]"
   ]
  },
  {
   "cell_type": "code",
   "execution_count": 7,
   "metadata": {},
   "outputs": [
    {
     "name": "stdout",
     "output_type": "stream",
     "text": [
      "[[  1.38470000e+02   5.16550000e+01   9.78270000e+01 ...,   2.15000000e+00\n",
      "    4.44000000e-01   1.13497000e+02]\n",
      " [  1.60937000e+02   6.87680000e+01   1.03235000e+02 ...,   7.25000000e-01\n",
      "    1.15800000e+00   4.62260000e+01]\n",
      " [ -9.99000000e+02   1.62172000e+02   1.25953000e+02 ...,   2.05300000e+00\n",
      "   -2.02800000e+00   4.42510000e+01]\n",
      " ..., \n",
      " [  1.05457000e+02   6.05260000e+01   7.58390000e+01 ...,   1.80000000e+00\n",
      "   -1.66000000e-01   4.19920000e+01]\n",
      " [  9.49510000e+01   1.93620000e+01   6.88120000e+01 ...,  -9.99000000e+02\n",
      "   -9.99000000e+02   0.00000000e+00]\n",
      " [ -9.99000000e+02   7.27560000e+01   7.08310000e+01 ...,  -9.99000000e+02\n",
      "   -9.99000000e+02   0.00000000e+00]] (250000, 23)\n"
     ]
    }
   ],
   "source": [
    "f1 = filter_bad_features(x)\n",
    "print(f1, f1.shape)"
   ]
  },
  {
   "cell_type": "code",
   "execution_count": 8,
   "metadata": {},
   "outputs": [
    {
     "name": "stdout",
     "output_type": "stream",
     "text": [
      "[[  1.38470000e+02   5.16550000e+01   9.78270000e+01 ...,   2.15000000e+00\n",
      "    4.44000000e-01   1.13497000e+02]\n",
      " [  1.60937000e+02   6.87680000e+01   1.03235000e+02 ...,   7.25000000e-01\n",
      "    1.15800000e+00   4.62260000e+01]\n",
      " [ -9.99000000e+02   1.62172000e+02   1.25953000e+02 ...,   2.05300000e+00\n",
      "   -2.02800000e+00   4.42510000e+01]\n",
      " ..., \n",
      " [  2.17020000e+02   4.71560000e+01   6.28240000e+01 ...,   2.37000000e-01\n",
      "    3.12600000e+00   1.74176000e+02]\n",
      " [  1.05457000e+02   6.05260000e+01   7.58390000e+01 ...,   1.80000000e+00\n",
      "   -1.66000000e-01   4.19920000e+01]\n",
      " [  9.49510000e+01   1.93620000e+01   6.88120000e+01 ...,  -9.99000000e+02\n",
      "   -9.99000000e+02   0.00000000e+00]] (223877, 23)\n",
      "[ 1. -1. -1. ..., -1.  1. -1.] (223877,)\n"
     ]
    }
   ],
   "source": [
    "f2, fy = filter_bad_samples(f1, y, .2)\n",
    "print(f2, f2.shape)\n",
    "print(fy, fy.shape)"
   ]
  }
 ],
 "metadata": {
  "kernelspec": {
   "display_name": "Python 3",
   "language": "python",
   "name": "python3"
  },
  "language_info": {
   "codemirror_mode": {
    "name": "ipython",
    "version": 3
   },
   "file_extension": ".py",
   "mimetype": "text/x-python",
   "name": "python",
   "nbconvert_exporter": "python",
   "pygments_lexer": "ipython3",
   "version": "3.6.1"
  }
 },
 "nbformat": 4,
 "nbformat_minor": 2
}
