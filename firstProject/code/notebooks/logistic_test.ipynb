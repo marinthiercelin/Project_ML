{
 "cells": [
  {
   "cell_type": "code",
   "execution_count": 1,
   "metadata": {},
   "outputs": [],
   "source": [
    "import sys\n",
    "sys.path.insert(0, '..')\n",
    "# Useful starting lines\n",
    "%matplotlib inline\n",
    "import matplotlib.pyplot as plt\n",
    "%load_ext autoreload\n",
    "%autoreload 2"
   ]
  },
  {
   "cell_type": "code",
   "execution_count": 2,
   "metadata": {},
   "outputs": [],
   "source": [
    "import Helpers.helpers as helper\n",
    "import Helpers.cleaner as cleaner\n",
    "import numpy as np\n",
    "import Helpers.implementations as imp\n"
   ]
  },
  {
   "cell_type": "code",
   "execution_count": 3,
   "metadata": {},
   "outputs": [],
   "source": [
    "x,y = helper.load_clean_data('../../data/x_train.npy', '../../data/y_train.npy')\n"
   ]
  },
  {
   "cell_type": "code",
   "execution_count": 4,
   "metadata": {},
   "outputs": [
    {
     "name": "stdout",
     "output_type": "stream",
     "text": [
      "19\n"
     ]
    }
   ],
   "source": [
    "print (x.shape[1])"
   ]
  },
  {
   "cell_type": "code",
   "execution_count": 5,
   "metadata": {},
   "outputs": [],
   "source": [
    "def toDeg(x,degree):\n",
    "    res = x\n",
    "    for i in range(2,degree +1):\n",
    "        power = np.power(x,i)\n",
    "        res = np.c_[res,power]\n",
    "    return res\n",
    "\n",
    "def addConstant(x):\n",
    "    return np.c_[np.ones((x.shape[0],1)),x]"
   ]
  },
  {
   "cell_type": "code",
   "execution_count": 6,
   "metadata": {},
   "outputs": [],
   "source": [
    "xpow = addConstant(toDeg(x, 2))\n"
   ]
  },
  {
   "cell_type": "code",
   "execution_count": 7,
   "metadata": {},
   "outputs": [],
   "source": [
    "x_tr,y_tr,x_te,y_te = imp.split_data(xpow,y,0.5,seed = 9)\n"
   ]
  },
  {
   "cell_type": "code",
   "execution_count": 8,
   "metadata": {},
   "outputs": [],
   "source": [
    "max_iters = 50\n",
    "gamma = .08\n",
    "lambda_ = 0.1"
   ]
  },
  {
   "cell_type": "code",
   "execution_count": 9,
   "metadata": {},
   "outputs": [
    {
     "name": "stdout",
     "output_type": "stream",
     "text": [
      "(111938,) (111938, 39)\n"
     ]
    }
   ],
   "source": [
    "print(y_tr.shape, x_tr.shape)"
   ]
  },
  {
   "cell_type": "code",
   "execution_count": 10,
   "metadata": {},
   "outputs": [
    {
     "data": {
      "text/plain": [
       "(39, 1)"
      ]
     },
     "execution_count": 10,
     "metadata": {},
     "output_type": "execute_result"
    }
   ],
   "source": [
    "np.zeros((x_tr.shape[1], 1)).shape"
   ]
  },
  {
   "cell_type": "code",
   "execution_count": null,
   "metadata": {},
   "outputs": [
    {
     "name": "stdout",
     "output_type": "stream",
     "text": [
      "w: -307.715871582\n",
      "w: 1691.88153337\n",
      "w: -934.22094004\n",
      "w: 1070.38850546\n",
      "w: -1550.74202373\n",
      "w: 458.799590446\n",
      "w: -2083.18127454\n",
      "w: -69.3801463587\n",
      "w: -1774.835982\n",
      "w: 236.49838384\n",
      "w: -2315.68164237\n",
      "w: -300.020511245\n",
      "w: 1187.27076701\n",
      "w: -1432.66795156\n",
      "w: 575.929070033\n",
      "w: -1957.0943292\n",
      "w: 55.6981034155\n",
      "w: -2072.85914233\n",
      "w: -59.1405912051\n",
      "w: -2162.70205566\n",
      "w: -148.264761228\n",
      "w: -2120.24626029\n",
      "w: -106.148612228\n",
      "w: -2152.50135081\n",
      "w: -138.145662024\n",
      "w: -1973.40715017\n",
      "w: 39.5157850108\n",
      "w: -2284.15742962\n",
      "w: -268.748492198\n",
      "w: -424.583404835\n",
      "w: -1764.07272457\n",
      "w: 247.175535206\n",
      "w: -2288.70249841\n",
      "w: -273.257200442\n",
      "w: -2103.99628603\n",
      "w: -90.0286377537\n",
      "w: -2336.65752871\n",
      "w: -320.828590496\n",
      "w: -1077.42847055\n",
      "w: 924.050237584\n",
      "w: -1682.7044796\n",
      "w: 327.892834224\n",
      "w: -2160.28104708\n",
      "w: -145.863120717\n",
      "w: -2308.31237624\n"
     ]
    },
    {
     "name": "stderr",
     "output_type": "stream",
     "text": [
      "../Helpers/implementations.py:114: RuntimeWarning: overflow encountered in exp\n",
      "  exp_inv = np.exp(-1.0*t)\n"
     ]
    },
    {
     "name": "stdout",
     "output_type": "stream",
     "text": [
      "w: -292.710199248\n",
      "w: -2284.96290037\n",
      "w: -269.547519186\n",
      "w: -2278.50254347\n",
      "w: -263.138845137\n",
      "1\n",
      "2\n"
     ]
    }
   ],
   "source": [
    "loss,w = imp.reg_logistic_regression(y=y_tr, tx=x_tr, lambda_=lambda_, initial_w=np.zeros((x_tr.shape[1], 1)), max_iters=max_iters, gamma=gamma)"
   ]
  },
  {
   "cell_type": "code",
   "execution_count": null,
   "metadata": {},
   "outputs": [],
   "source": [
    "y_pred = helper.predict_labels(w,x_te)"
   ]
  },
  {
   "cell_type": "code",
   "execution_count": null,
   "metadata": {},
   "outputs": [],
   "source": [
    "y_pred.shape\n",
    "print(y_pred.shape, w.shape, loss.shape, x_te.shape)"
   ]
  },
  {
   "cell_type": "code",
   "execution_count": null,
   "metadata": {},
   "outputs": [],
   "source": [
    "res = np.array([(1 if(y_pred[i] == y_te[i]) else 0) for i in range(y_te.shape[0])])"
   ]
  },
  {
   "cell_type": "code",
   "execution_count": 111,
   "metadata": {},
   "outputs": [
    {
     "name": "stdout",
     "output_type": "stream",
     "text": [
      "0.397926994142\n"
     ]
    }
   ],
   "source": [
    "print(res.sum()/len(res))"
   ]
  },
  {
   "cell_type": "code",
   "execution_count": 172,
   "metadata": {},
   "outputs": [
    {
     "name": "stdout",
     "output_type": "stream",
     "text": [
      "l=  0  d=  4  score=  0.790930774797  loss=  0.076667316385\n",
      "l=  0  d=  5  score=  0.792672795004  loss=  0.0757621348459\n",
      "l=  0  d=  6  score=  0.789421023951  loss=  0.0768037450645\n",
      "l=  0.0001  d=  4  score=  0.775315126989  loss=  0.0814069630877\n",
      "l=  0.0001  d=  5  score=  0.778182760253  loss=  0.0803513763763\n",
      "l=  0.0001  d=  6  score=  0.778933168958  loss=  0.0800476298695\n"
     ]
    }
   ],
   "source": [
    "for lambda_ in [0,0.0001]:\n",
    "    for degree in [4,5,6]:\n",
    "        xpow = addConstant(toDeg(x, degree))\n",
    "        x_tr,y_tr,x_te,y_te = imp.split_data(xpow,y,0.5,seed = 9)\n",
    "        loss,w = imp.ridge_regression(y_tr,x_tr,lambda_)\n",
    "        y_pred = helper.predict_labels(w,x_te)\n",
    "        res = np.array([(1 if(y_pred[i] == y_te[i]) else 0) for i in range(y_te.shape[0])])\n",
    "        print(\"l= \", lambda_,\" d= \", degree, \" score= \", res.sum()/len(res),\" loss= \", loss)\n",
    "        "
   ]
  },
  {
   "cell_type": "code",
   "execution_count": 176,
   "metadata": {},
   "outputs": [
    {
     "name": "stdout",
     "output_type": "stream",
     "text": [
      "0.0759068863769\n"
     ]
    }
   ],
   "source": [
    "#parameters\n",
    "deg = 5\n",
    "\n",
    "xpow = addConstant(toDeg(x, deg))\n",
    "loss,w = imp.least_squares(y,xpow)\n",
    "\n",
    "print(loss)"
   ]
  },
  {
   "cell_type": "code",
   "execution_count": 208,
   "metadata": {
    "collapsed": true
   },
   "outputs": [],
   "source": [
    "def build_k_indices(y, k_fold, seed):\n",
    "    \"\"\"build k indices for k-fold.\"\"\"\n",
    "    num_row = y.shape[0]\n",
    "    interval = int(num_row / k_fold)\n",
    "    np.random.seed(seed)\n",
    "    indices = np.random.permutation(num_row)\n",
    "    k_indices = [indices[k * interval: (k + 1) * interval]\n",
    "                 for k in range(k_fold)]\n",
    "    return np.array(k_indices)"
   ]
  },
  {
   "cell_type": "code",
   "execution_count": 214,
   "metadata": {
    "collapsed": true
   },
   "outputs": [],
   "source": [
    "def cross_validation(y, x, k_indices, k, lambda_, degree):\n",
    "    \"\"\"return the loss of ridge regression.\"\"\"\n",
    "    # ***************************************************\n",
    "    # INSERT YOUR CODE HERE\n",
    "    # get k'th subgroup in test, others in train: TODO\n",
    "    # ***************************************************\n",
    "    x_test = x[k_indices[k]]\n",
    "    y_test = y[k_indices[k]]\n",
    "    all_ind = np.array(list(range(x.shape[0])))\n",
    "    rest_ind = np.setdiff1d(all_ind,k_indices[k])\n",
    "    x_train = x[rest_ind]\n",
    "    y_train = y[rest_ind]\n",
    "    # ***************************************************\n",
    "    # INSERT YOUR CODE HERE\n",
    "    # form data with polynomial degree: TODO\n",
    "    # ***************************************************\n",
    "    x_train = addConstant(toDeg(x_train,degree))\n",
    "    x_test = addConstant(toDeg(x_test,degree))\n",
    "    # ***************************************************\n",
    "    # INSERT YOUR CODE HERE\n",
    "    # ridge regression: TODO\n",
    "    # ***************************************************\n",
    "    loss,w = imp.ridge_regression(y_train,x_train,lambda_)\n",
    "    # ***************************************************\n",
    "    # INSERT YOUR CODE HERE\n",
    "    # calculate the loss for train and test data: TODO\n",
    "    # ***************************************************\n",
    "    loss_tr = imp.compute_mse(y_train,x_train,w)\n",
    "    loss_te = imp.compute_mse(y_test,x_test,w)\n",
    "    return loss_tr, loss_te"
   ]
  },
  {
   "cell_type": "code",
   "execution_count": 210,
   "metadata": {
    "collapsed": true
   },
   "outputs": [],
   "source": [
    "# -*- coding: utf-8 -*-\n",
    "\"\"\"a function of ploting figures.\"\"\"\n",
    "import numpy as np\n",
    "import matplotlib.pyplot as plt\n",
    "\n",
    "\n",
    "def cross_validation_visualization(lambds, mse_tr, mse_te):\n",
    "    \"\"\"visualization the curves of mse_tr and mse_te.\"\"\"\n",
    "    plt.semilogx(lambds, mse_tr, marker=\".\", color='b', label='train error')\n",
    "    plt.semilogx(lambds, mse_te, marker=\".\", color='r', label='test error')\n",
    "    plt.xlabel(\"lambda\")\n",
    "    plt.ylabel(\"rmse\")\n",
    "    plt.title(\"cross validation\")\n",
    "    plt.legend(loc=2)\n",
    "    plt.grid(True)\n",
    "    plt.savefig(\"cross_validation\")"
   ]
  },
  {
   "cell_type": "code",
   "execution_count": null,
   "metadata": {},
   "outputs": [],
   "source": [
    "\n",
    "\n",
    "def cross_validation_demo():\n",
    "    seed = 1\n",
    "    degree = 7\n",
    "    k_fold = 4\n",
    "    lambdas = np.logspace(-4, 0, 30)\n",
    "    # split data in k fold\n",
    "    k_indices = build_k_indices(y, k_fold, seed)\n",
    "    # define lists to store the loss of training data and test data\n",
    "    rmse_tr = []\n",
    "    rmse_te = []\n",
    "    # ***************************************************\n",
    "    # INSERT YOUR CODE HERE\n",
    "    # cross validation: TODO\n",
    "    # ***************************************************\n",
    "    for lambda_ in lambdas:\n",
    "        sum_te = 0\n",
    "        sum_tr = 0\n",
    "        for k in range(k_fold):\n",
    "            mse_tr,mse_te = cross_validation(y,x,k_indices,k,lambda_, degree)\n",
    "            sum_tr += np.sqrt(2*mse_tr)\n",
    "            sum_te += np.sqrt(2*mse_te)\n",
    "        rmse_tr.append(sum_tr/(1.0*k_fold))\n",
    "        rmse_te.append(sum_te/(1.0*k_fold))\n",
    "            \n",
    "    cross_validation_visualization(lambdas, rmse_tr, rmse_te)\n",
    "\n",
    "cross_validation_demo()"
   ]
  },
  {
   "cell_type": "code",
   "execution_count": 177,
   "metadata": {
    "collapsed": true
   },
   "outputs": [],
   "source": [
    "x_test,y_test = helper.load_clean_data('../../data/x_test.npy', '../../data/y_test.npy')"
   ]
  },
  {
   "cell_type": "code",
   "execution_count": 178,
   "metadata": {
    "collapsed": true
   },
   "outputs": [],
   "source": [
    "xpow_test = addConstant(toDeg(x_test, deg))"
   ]
  },
  {
   "cell_type": "code",
   "execution_count": 179,
   "metadata": {},
   "outputs": [
    {
     "name": "stdout",
     "output_type": "stream",
     "text": [
      "96\n",
      "96\n"
     ]
    }
   ],
   "source": [
    "print(xpow.shape[1])\n",
    "print(xpow_test.shape[1])"
   ]
  },
  {
   "cell_type": "code",
   "execution_count": 180,
   "metadata": {
    "collapsed": true
   },
   "outputs": [],
   "source": [
    "y_pred = helper.predict_labels(w,xpow_test)"
   ]
  },
  {
   "cell_type": "code",
   "execution_count": 187,
   "metadata": {
    "collapsed": true
   },
   "outputs": [],
   "source": [
    "y_pred = helper.changeYfromBinary(y_pred)"
   ]
  },
  {
   "cell_type": "code",
   "execution_count": 185,
   "metadata": {},
   "outputs": [],
   "source": [
    "a,b, ids = helper.load_csv_data('../../data/test.csv')"
   ]
  },
  {
   "cell_type": "code",
   "execution_count": 188,
   "metadata": {
    "collapsed": true
   },
   "outputs": [],
   "source": [
    "helper.create_csv_submission(ids,y_pred,'../../data/subm2.csv')"
   ]
  }
 ],
 "metadata": {
  "kernelspec": {
   "display_name": "Python 3",
   "language": "python",
   "name": "python3"
  },
  "language_info": {
   "codemirror_mode": {
    "name": "ipython",
    "version": 3
   },
   "file_extension": ".py",
   "mimetype": "text/x-python",
   "name": "python",
   "nbconvert_exporter": "python",
   "pygments_lexer": "ipython3",
   "version": "3.6.1"
  }
 },
 "nbformat": 4,
 "nbformat_minor": 2
}
