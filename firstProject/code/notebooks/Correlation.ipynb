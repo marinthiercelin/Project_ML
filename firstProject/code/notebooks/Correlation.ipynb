{
 "cells": [
  {
   "cell_type": "code",
   "execution_count": 11,
   "metadata": {
    "collapsed": true
   },
   "outputs": [],
   "source": [
    "import sys\n",
    "sys.path.insert(0, '..')\n"
   ]
  },
  {
   "cell_type": "code",
   "execution_count": 37,
   "metadata": {},
   "outputs": [],
   "source": [
    "import Helpers.helpers as helper\n",
    "import Helpers.cleaner as cleaner\n",
    "import numpy as np"
   ]
  },
  {
   "cell_type": "code",
   "execution_count": 41,
   "metadata": {},
   "outputs": [],
   "source": [
    "y, x, ids = helper.load_csv_data('../../data/train.csv', False)\n"
   ]
  },
  {
   "cell_type": "code",
   "execution_count": 42,
   "metadata": {},
   "outputs": [
    {
     "name": "stderr",
     "output_type": "stream",
     "text": [
      "/home/marin/anaconda3/lib/python3.6/site-packages/numpy/core/fromnumeric.py:2889: RuntimeWarning: Mean of empty slice.\n",
      "  out=out, **kwargs)\n",
      "/home/marin/anaconda3/lib/python3.6/site-packages/numpy/core/_methods.py:80: RuntimeWarning: invalid value encountered in double_scalars\n",
      "  ret = ret.dtype.type(ret / rcount)\n"
     ]
    }
   ],
   "source": [
    "yCl, xCl = cleaner.treatData(x, True, y)\n"
   ]
  },
  {
   "cell_type": "code",
   "execution_count": 43,
   "metadata": {},
   "outputs": [],
   "source": [
    "np.set_printoptions(suppress=True)\n",
    "index = np.array(range(-1,x.shape[1]))\n",
    "correl = cleaner.computeCorrelation(xCl)"
   ]
  },
  {
   "cell_type": "code",
   "execution_count": 52,
   "metadata": {},
   "outputs": [
    {
     "name": "stdout",
     "output_type": "stream",
     "text": [
      "6 4 -0.716559219651\n",
      "21 9 0.762656448254\n",
      "22 9 0.743113596775\n",
      "29 9 0.878149039208\n",
      "29 21 0.730433467522\n",
      "29 22 0.790770748139\n"
     ]
    }
   ],
   "source": [
    "for i in range(correl.shape[0]):\n",
    "    for j in range(correl.shape[0]):\n",
    "        if(i > j and abs(correl[i,j]) > 0.7):\n",
    "            print(i,j, correl[i,j])\n",
    "            "
   ]
  },
  {
   "cell_type": "code",
   "execution_count": 53,
   "metadata": {},
   "outputs": [
    {
     "name": "stdout",
     "output_type": "stream",
     "text": [
      "2 0 0.659145620668\n",
      "5 4 0.662139043997\n",
      "6 5 -0.623900697786\n",
      "7 2 0.537315100521\n",
      "9 3 0.676908405185\n",
      "11 1 -0.445637691244\n",
      "11 3 0.566314631194\n",
      "11 9 0.436592522497\n",
      "12 4 0.638804758438\n",
      "12 5 0.443317329414\n",
      "12 6 -0.504765296847\n",
      "13 10 -0.545668946888\n",
      "16 10 0.532652344849\n",
      "17 14 0.55708837558\n",
      "21 3 0.619680761685\n",
      "21 11 0.432144780259\n",
      "22 3 0.623766996333\n",
      "22 11 0.490059024656\n",
      "22 21 0.662938540417\n",
      "23 3 0.457202464838\n",
      "23 9 0.534864854725\n",
      "23 21 0.458929787333\n",
      "29 3 0.671385775246\n",
      "29 11 0.481687283284\n",
      "29 23 0.547580688371\n"
     ]
    }
   ],
   "source": [
    "li = []\n",
    "for i in range(correl.shape[0]):\n",
    "    for j in range(correl.shape[0]):\n",
    "        if(i > j and abs(correl[i,j]) > 0.4 and abs(correl[i,j]) <= 0.7):\n",
    "            print(i,j, correl[i,j])\n",
    "            li.extend(i,j,correl[i,j])\n",
    "            "
   ]
  },
  {
   "cell_type": "code",
   "execution_count": null,
   "metadata": {
    "collapsed": true
   },
   "outputs": [],
   "source": []
  }
 ],
 "metadata": {
  "kernelspec": {
   "display_name": "Python 3",
   "language": "python",
   "name": "python3"
  },
  "language_info": {
   "codemirror_mode": {
    "name": "ipython",
    "version": 3
   },
   "file_extension": ".py",
   "mimetype": "text/x-python",
   "name": "python",
   "nbconvert_exporter": "python",
   "pygments_lexer": "ipython3",
   "version": "3.6.1"
  }
 },
 "nbformat": 4,
 "nbformat_minor": 2
}
