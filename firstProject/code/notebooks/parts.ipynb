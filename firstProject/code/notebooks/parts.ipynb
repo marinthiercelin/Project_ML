{
 "cells": [
  {
   "cell_type": "code",
   "execution_count": 1,
   "metadata": {},
   "outputs": [],
   "source": [
    "import sys\n",
    "sys.path.insert(0, '..')\n",
    "# Useful starting lines\n",
    "%matplotlib inline\n",
    "import matplotlib.pyplot as plt\n",
    "%reload_ext autoreload\n",
    "%autoreload 2"
   ]
  },
  {
   "cell_type": "code",
   "execution_count": 2,
   "metadata": {},
   "outputs": [],
   "source": [
    "import Helpers.helpers as helper\n",
    "import Helpers.cleaner as cleaner\n",
    "import numpy as np\n",
    "import Helpers.implementations as imp"
   ]
  },
  {
   "cell_type": "code",
   "execution_count": 3,
   "metadata": {},
   "outputs": [],
   "source": [
    "part = [0,1,2,3]\n",
    "data = []\n",
    "for p in part:\n",
    "    data.append(helper.load_clean_data(f'../../data/clean/x_train_{p}.npy', f'../../data/clean/y_train_{p}.npy'))"
   ]
  },
  {
   "cell_type": "code",
   "execution_count": 4,
   "metadata": {},
   "outputs": [
    {
     "name": "stdout",
     "output_type": "stream",
     "text": [
      "(99913, 17)\n",
      "(77544, 21)\n",
      "(50379, 29)\n",
      "(22164, 29)\n"
     ]
    }
   ],
   "source": [
    "print(data[0][0].shape)\n",
    "print(data[1][0].shape)\n",
    "print(data[2][0].shape)\n",
    "print(data[3][0].shape)"
   ]
  },
  {
   "cell_type": "code",
   "execution_count": 131,
   "metadata": {},
   "outputs": [],
   "source": [
    "q = np.array([[1,2,3],[10,20,30],[100,200,300]])"
   ]
  },
  {
   "cell_type": "code",
   "execution_count": 143,
   "metadata": {},
   "outputs": [
    {
     "data": {
      "text/plain": [
       "(3, 3)"
      ]
     },
     "execution_count": 143,
     "metadata": {},
     "output_type": "execute_result"
    }
   ],
   "source": [
    "q.shape"
   ]
  },
  {
   "cell_type": "code",
   "execution_count": 155,
   "metadata": {},
   "outputs": [],
   "source": [
    "def toDeg(x,degree):\n",
    "    res = x\n",
    "    for i in range(2,degree +1):\n",
    "        power = np.power(x,i)\n",
    "        res = np.c_[res,power]\n",
    "    return res\n",
    "\n",
    "def addConstant(x):\n",
    "    return np.c_[np.ones((x.shape[0],1)),x]\n",
    "\n",
    "\n",
    "def add_cos(x, dim):\n",
    "    \"\"\"Only do it after adding a constant.\"\"\"\n",
    "    select = x[:,1:dim+1]\n",
    "    cos = np.cos(select)\n",
    "    return np.concatenate([x, cos], axis=1)\n",
    "\n",
    "\n",
    "def add_sin(x, dim):\n",
    "    \"\"\"Only do it after adding a constant.\"\"\"\n",
    "    select = x[:,1:dim+1]\n",
    "    sin = np.sin(select)\n",
    "    return np.concatenate([x, sin], axis=1)\n",
    "\n",
    "def add_effect(x, dim, fun):\n",
    "    \"\"\"Only do it after adding a constant.\"\"\"\n",
    "    select = x[:,1:dim+1]\n",
    "    ret = fun(select)\n",
    "    return np.concatenate([x, ret], axis=1)"
   ]
  },
  {
   "cell_type": "code",
   "execution_count": 159,
   "metadata": {},
   "outputs": [
    {
     "data": {
      "text/plain": [
       "array([[   1.        ,    2.        ,    3.        ,    1.09861229,\n",
       "           1.38629436],\n",
       "       [  10.        ,   20.        ,   30.        ,    3.04452244,\n",
       "           3.4339872 ],\n",
       "       [ 100.        ,  200.        ,  300.        ,    5.30330491,\n",
       "           5.70711026]])"
      ]
     },
     "execution_count": 159,
     "metadata": {},
     "output_type": "execute_result"
    }
   ],
   "source": [
    "add_effect(q, 2, lambda x: np.log(x+1))"
   ]
  },
  {
   "cell_type": "code",
   "execution_count": 5,
   "metadata": {},
   "outputs": [],
   "source": [
    "x = [data[p][0] for p in part]\n",
    "y = [data[p][1] for p in part]\n",
    "\n",
    "xpow = [helper.addConstant(helper.toDeg(x[p], 2)) for p in part]"
   ]
  },
  {
   "cell_type": "code",
   "execution_count": 115,
   "metadata": {},
   "outputs": [],
   "source": [
    "def train_model_ridge_cross(x, y, lambdas=[-0.00001], ratio=.1, seed=1):\n",
    "    accuracies = []\n",
    "    ws = []\n",
    "    rmse_trs = []\n",
    "    rmse_tes = []\n",
    "    \n",
    "    x_tr,y_tr,x_te,y_te = imp.split_data(x,y,ratio,seed)\n",
    "    w_all, rmse_tr, rmse_te = imp.full_cross_validation(x_tr,y_tr, lambdas=lambdas)\n",
    "    \n",
    "    for w in w_all:\n",
    "        y_pred = helper.predict_labels(w,x_te)\n",
    "        res = np.array([(1 if(y_pred[i] == y_te[i]) else 0) for i in range(y_te.shape[0])])\n",
    "        accuracies.append(res.sum()/len(res))\n",
    "        \n",
    "        \n",
    "    i = np.argmax(accuracies)\n",
    "    return w_all[i], accuracies[i], rmse_tr[i], rmse_te[i]"
   ]
  },
  {
   "cell_type": "code",
   "execution_count": 189,
   "metadata": {},
   "outputs": [],
   "source": [
    "def train_all_models(xs, ys, lambdas=[0.001, .01, -0.01], parts=[0,1,2,3]):\n",
    "#     dim = x.shape[1]\n",
    "    xpow = [helper.addConstant(helper.toDeg(xs[p], 2)) for p in parts]\n",
    "    \n",
    "    ws = []\n",
    "    accuracies = []\n",
    "    rmse_trs = []\n",
    "    rmse_tes = []\n",
    "    for p in parts:\n",
    "        dim = xpow[p].shape[1]\n",
    "        xpow_ = xpow[p]\n",
    "#         xpow_ = helper.add_effect(xpow[p], dim, np.cos)\n",
    "#         xpow_ = helper.add_effect(xpow_, dim, np.sin)\n",
    "#         xpow_ = helper.add_effect(xpow_, dim, lambda x: np.log(x + 1))\n",
    "        w, accuracy, rmse_tr, rmse_te = train_model_ridge_cross(xpow_, ys[p], lambdas=lambdas)\n",
    "        ws.append(w)\n",
    "        accuracies.append(accuracy)\n",
    "        rmse_trs.append(rmse_tr)\n",
    "        rmse_tes.append(rmse_te)\n",
    "        \n",
    "    return ws, accuracies, rmse_trs, rmse_tes"
   ]
  },
  {
   "cell_type": "code",
   "execution_count": 190,
   "metadata": {},
   "outputs": [],
   "source": [
    "temp = train_all_models(x, y)"
   ]
  },
  {
   "cell_type": "code",
   "execution_count": 191,
   "metadata": {},
   "outputs": [
    {
     "name": "stdout",
     "output_type": "stream",
     "text": [
      "0.790384270975\n"
     ]
    }
   ],
   "source": [
    "denom = sum(data[p][0].shape[0] for p in part)\n",
    "num = sum(data[p][0].shape[0] * accuracies[p] for p in part)\n",
    "print(num/denom)"
   ]
  },
  {
   "cell_type": "code",
   "execution_count": 192,
   "metadata": {},
   "outputs": [],
   "source": [
    "test_data = []\n",
    "for p in part:\n",
    "    test_data.append(helper.load_clean_data(f'../../data/clean/x_test_{p}.npy', f'../../data/clean/ids_test_{p}.npy'))"
   ]
  },
  {
   "cell_type": "code",
   "execution_count": 193,
   "metadata": {},
   "outputs": [],
   "source": [
    "x_test = [test_data[p][0] for p in part]\n",
    "id_test = [test_data[p][1] for p in part]\n"
   ]
  },
  {
   "cell_type": "code",
   "execution_count": 194,
   "metadata": {},
   "outputs": [
    {
     "name": "stdout",
     "output_type": "stream",
     "text": [
      "(227458,)\n",
      "(227458, 17)\n"
     ]
    }
   ],
   "source": [
    "print(id_test[0].shape)\n",
    "print(x_test[0].shape)"
   ]
  },
  {
   "cell_type": "code",
   "execution_count": 195,
   "metadata": {},
   "outputs": [],
   "source": [
    "xpow_test = [helper.addConstant(helper.toDeg(x_test[p], 2)) for p in part]"
   ]
  },
  {
   "cell_type": "code",
   "execution_count": 197,
   "metadata": {},
   "outputs": [
    {
     "data": {
      "text/plain": [
       "(35,)"
      ]
     },
     "execution_count": 197,
     "metadata": {},
     "output_type": "execute_result"
    }
   ],
   "source": [
    "weights = temp[0]\n",
    "weights[0].shape\n"
   ]
  },
  {
   "cell_type": "code",
   "execution_count": null,
   "metadata": {},
   "outputs": [],
   "source": []
  },
  {
   "cell_type": "code",
   "execution_count": 199,
   "metadata": {},
   "outputs": [],
   "source": [
    "y_test = []\n",
    "for p in part:\n",
    "    dim = xpow_test[p].shape[1]\n",
    "    xpow_test_ = xpow_test[p]\n",
    "#     xpow_test_ = helper.add_effect(xpow_test[p], dim, np.cos)\n",
    "#     xpow_test_ = helper.add_effect(xpow_test_, dim, np.sin)\n",
    "    y_test.append(helper.predict_labels(weights[p],xpow_test_))"
   ]
  },
  {
   "cell_type": "code",
   "execution_count": 200,
   "metadata": {},
   "outputs": [],
   "source": [
    "y_ret = np.concatenate(y_test)"
   ]
  },
  {
   "cell_type": "code",
   "execution_count": 201,
   "metadata": {},
   "outputs": [],
   "source": [
    "ids_ret = np.concatenate(id_test)"
   ]
  },
  {
   "cell_type": "code",
   "execution_count": 202,
   "metadata": {},
   "outputs": [],
   "source": [
    "y_ret = helper.changeYfromBinary(y_ret)"
   ]
  },
  {
   "cell_type": "code",
   "execution_count": 203,
   "metadata": {},
   "outputs": [],
   "source": [
    "helper.create_csv_submission(ids=ids_ret,y_pred=y_ret,name='../../data/subm_leo_3.csv')"
   ]
  }
 ],
 "metadata": {
  "kernelspec": {
   "display_name": "Python 3",
   "language": "python",
   "name": "python3"
  },
  "language_info": {
   "codemirror_mode": {
    "name": "ipython",
    "version": 3
   },
   "file_extension": ".py",
   "mimetype": "text/x-python",
   "name": "python",
   "nbconvert_exporter": "python",
   "pygments_lexer": "ipython3",
   "version": "3.6.1"
  }
 },
 "nbformat": 4,
 "nbformat_minor": 2
}
