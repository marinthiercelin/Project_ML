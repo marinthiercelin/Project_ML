{
 "cells": [
  {
   "cell_type": "code",
   "execution_count": 1,
   "metadata": {},
   "outputs": [],
   "source": [
    "import sys\n",
    "sys.path.insert(0, '..')\n",
    "# Useful starting lines\n",
    "%matplotlib inline\n",
    "import matplotlib.pyplot as plt\n",
    "%reload_ext autoreload\n",
    "%autoreload 2"
   ]
  },
  {
   "cell_type": "code",
   "execution_count": 2,
   "metadata": {},
   "outputs": [],
   "source": [
    "import Helpers.helpers as helper\n",
    "import Helpers.cleaner as cleaner\n",
    "import numpy as np\n",
    "import Helpers.implementations as imp"
   ]
  },
  {
   "cell_type": "code",
   "execution_count": 3,
   "metadata": {},
   "outputs": [],
   "source": [
    "part = [0,1,2,3]\n",
    "data = []\n",
    "for p in part:\n",
    "    data.append(helper.load_clean_data(f'../../data/clean/x_train_{p}.npy', f'../../data/clean/y_train_{p}.npy'))"
   ]
  },
  {
   "cell_type": "code",
   "execution_count": 4,
   "metadata": {},
   "outputs": [
    {
     "name": "stdout",
     "output_type": "stream",
     "text": [
      "(99913, 17)\n",
      "(77544, 21)\n",
      "(50379, 29)\n",
      "(22164, 29)\n"
     ]
    }
   ],
   "source": [
    "print(data[0][0].shape)\n",
    "print(data[1][0].shape)\n",
    "print(data[2][0].shape)\n",
    "print(data[3][0].shape)"
   ]
  },
  {
   "cell_type": "code",
   "execution_count": 5,
   "metadata": {},
   "outputs": [],
   "source": [
    "def toDeg(x,degree):\n",
    "    res = x\n",
    "    for i in range(2,degree +1):\n",
    "        power = np.power(x,i)\n",
    "        res = np.c_[res,power]\n",
    "    return res\n",
    "\n",
    "def addConstant(x):\n",
    "    return np.c_[np.ones((x.shape[0],1)),x]"
   ]
  },
  {
   "cell_type": "code",
   "execution_count": 5,
   "metadata": {},
   "outputs": [],
   "source": [
    "x = [data[p][0] for p in part]\n",
    "y = [data[p][1] for p in part]\n",
    "\n",
    "xpow = [helper.addConstant(helper.toDeg(x[p], 2)) for p in part]"
   ]
  },
  {
   "cell_type": "code",
   "execution_count": 49,
   "metadata": {},
   "outputs": [],
   "source": [
    "def train_model_ridge_cross(x, y, lambdas=[-0.00001], ratio=.8, seed=1):\n",
    "    accuracies = []\n",
    "    ws = []\n",
    "    rmse_trs = []\n",
    "    rmse_tes = []\n",
    "    \n",
    "    x_tr,y_tr,x_te,y_te = imp.split_data(x,y,ratio,seed)\n",
    "    w_all, rmse_tr, rmse_te = imp.full_cross_validation(x_tr,y_tr, lambdas=lambdas)\n",
    "    \n",
    "    for w in w_all:\n",
    "        y_pred = helper.predict_labels(w,x_te)\n",
    "        res = np.array([(1 if(y_pred[i] == y_te[i]) else 0) for i in range(y_te.shape[0])])\n",
    "        accuracies.append(res.sum()/len(res))\n",
    "        \n",
    "        \n",
    "    i = np.argmax(accuracies)\n",
    "    return w_all[i], accuracies[i], rmse_tr[i], rmse_te[i]"
   ]
  },
  {
   "cell_type": "code",
   "execution_count": 55,
   "metadata": {},
   "outputs": [],
   "source": [
    "def train_all_models(xs, ys, lambdas=[0.001, .01, -0.01], parts=[0,1,2,3]):\n",
    "    xpow = [helper.addConstant(helper.toDeg(xs[p], 2)) for p in parts]\n",
    "    ws = []\n",
    "    accuracies = []\n",
    "    rmse_trs = []\n",
    "    rmse_tes = []\n",
    "    for p in parts:\n",
    "        w, accuracy, rmse_tr, rmse_te = train_model_ridge_cross(xpow[p], ys[p], lambdas=lambdas)\n",
    "        ws.append(w)\n",
    "        accuracies.append(accuracy)\n",
    "        rmse_trs.append(rmse_tr)\n",
    "        rmse_tes.append(rmse_te)\n",
    "        \n",
    "    return ws, accuracies, rmse_trs, rmse_tes"
   ]
  },
  {
   "cell_type": "code",
   "execution_count": 56,
   "metadata": {},
   "outputs": [
    {
     "data": {
      "text/plain": [
       "([array([ -1.11367490e-01,   3.14853132e-01,  -3.40984572e-01,\n",
       "           2.69156225e-01,   1.67071379e-01,  -1.91768188e-02,\n",
       "           1.61166493e-01,  -2.43514710e-01,  -4.23768444e-02,\n",
       "           8.49293596e-02,   5.92607580e-04,   1.10469641e-06,\n",
       "           9.51867299e-02,   2.32016087e-03,   2.31044905e-05,\n",
       "          -1.78091482e-01,  -2.27780775e-05,   4.98413753e-02,\n",
       "           2.46555294e-02,   1.51295264e-01,  -2.42095410e-01,\n",
       "          -4.83883735e-02,   4.06545977e-03,   2.73583558e-02,\n",
       "           1.00560003e-01,   4.35113631e-03,   9.51756590e-03,\n",
       "          -5.68093164e-06,   1.79023418e-08,  -1.31182728e-01,\n",
       "          -4.79589745e-05,   1.73227029e-07,   6.30777652e-02,\n",
       "           3.21068961e-07,  -6.87051800e-03]),\n",
       "  array([  1.84502362e-02,   1.93284716e-01,  -1.51542269e-01,\n",
       "           8.08032532e-02,  -1.16188278e-02,   1.38650274e-02,\n",
       "           1.58460686e-02,   7.45287543e-02,  -1.03290014e-01,\n",
       "           3.57154944e-02,   1.42961570e-01,   5.97649756e-05,\n",
       "           1.02537665e-05,   5.25489478e-02,  -4.32074181e-04,\n",
       "           1.27579285e-05,   2.41274419e-02,  -1.36918044e-05,\n",
       "           8.52704191e-02,  -5.78550193e-05,   1.12604236e-06,\n",
       "           6.73620278e-02,   1.77740585e-01,  -6.53410972e-05,\n",
       "          -5.58363991e-02,  -9.80494815e-03,  -7.69564946e-02,\n",
       "          -7.35022335e-03,  -2.07393677e-02,   3.74755142e-02,\n",
       "           2.68149421e-03,  -2.93198595e-02,  -4.61908647e-08,\n",
       "          -1.15679599e-08,  -2.01797198e-02,  -1.10183444e-06,\n",
       "           4.57912413e-07,  -1.00337962e-03,   7.93855051e-09,\n",
       "          -4.75785489e-02,   1.29668047e-08,   4.94203879e-08,\n",
       "          -1.03852989e-02]),\n",
       "  array([  3.71934906e-02,   2.95530492e-01,  -5.64889625e-02,\n",
       "           1.82866340e-01,  -2.84969661e-02,   1.28852106e-03,\n",
       "          -1.08338684e-02,   2.64246451e-03,   4.65905237e-02,\n",
       "          -3.82832571e-02,  -1.53942566e-02,  -5.57737258e-02,\n",
       "           7.53024984e-02,   8.53537187e-02,   4.05738627e-02,\n",
       "           2.97227155e-05,   1.12621281e-05,   1.91374081e-02,\n",
       "           1.52864974e-04,   9.98272414e-05,   2.06432453e-02,\n",
       "           1.09094025e-05,  -4.90444329e-02,   2.90095869e-02,\n",
       "          -7.64304334e-05,  -8.90102578e-05,   2.95409888e-02,\n",
       "          -4.23678288e-04,   9.46456715e-06,   2.08899551e-02,\n",
       "           2.23987020e-01,  -2.60188590e-02,  -6.02417315e-02,\n",
       "           2.93044579e-02,   4.47396775e-02,   1.77738664e-02,\n",
       "           3.73953827e-04,  -1.39471804e-01,   5.09751363e-03,\n",
       "          -1.62603014e-02,   2.03688265e-02,   1.32528875e-02,\n",
       "           2.14429754e-02,   9.19034197e-03,  -9.68656024e-09,\n",
       "          -1.19379284e-08,  -5.99941423e-03,  -2.01474604e-07,\n",
       "          -4.53518067e-07,  -6.90889060e-03,   4.65773101e-10,\n",
       "          -2.16211903e-02,  -1.69001900e-02,   4.66340778e-08,\n",
       "           1.23459164e-07,   1.35256992e-02,   1.25409129e-06,\n",
       "           1.35432898e-08,   1.40457684e-02]),\n",
       "  array([  7.57474465e-02,   1.43041443e-02,  -2.75659868e-02,\n",
       "           1.96433319e-02,   1.19118980e-02,   8.78868057e-03,\n",
       "          -3.78205758e-03,  -9.32729981e-04,   1.14812275e-02,\n",
       "           8.72959849e-04,  -5.60223705e-03,  -1.90228454e-02,\n",
       "           4.23127938e-02,   3.38596042e-02,   3.06200756e-02,\n",
       "           2.07107988e-04,   6.11246066e-05,   9.31649168e-03,\n",
       "          -1.72110264e-05,   3.21386496e-04,   9.49070998e-03,\n",
       "          -1.73326230e-04,  -5.74120087e-03,  -1.00244059e-02,\n",
       "          -3.66431773e-04,   1.34009999e-05,  -1.34276690e-02,\n",
       "          -9.21032261e-05,  -9.72046855e-05,  -1.25505125e-02,\n",
       "           2.80354223e-02,  -4.25127068e-02,   3.46236155e-02,\n",
       "           1.97503306e-02,   1.37136875e-02,  -2.55914029e-03,\n",
       "           1.74866081e-05,   2.18416787e-02,   5.94645910e-03,\n",
       "          -5.13241089e-03,  -1.61230581e-02,   4.30744348e-04,\n",
       "           1.21989106e-02,   5.71610874e-02,  -2.79312851e-07,\n",
       "           2.23624795e-07,   2.28328194e-02,  -1.62230437e-09,\n",
       "           6.64600040e-06,   2.22533895e-02,  -2.02915348e-07,\n",
       "          -4.64039915e-03,  -1.14810454e-02,   1.96224725e-06,\n",
       "           2.40288620e-09,  -1.77637644e-02,   3.43399016e-07,\n",
       "           1.54874068e-06,  -1.61358848e-02])],\n",
       " [0.83320822699294406,\n",
       "  0.76561996260235987,\n",
       "  0.78940055577610158,\n",
       "  0.73787502819760886],\n",
       " [0.35208253278393176,\n",
       "  0.40319208911406867,\n",
       "  0.38753259210414681,\n",
       "  0.42685809348009773],\n",
       " [0.35222539589205032,\n",
       "  0.40345480548863905,\n",
       "  0.38799317295956237,\n",
       "  0.42778097728651365])"
      ]
     },
     "execution_count": 56,
     "metadata": {},
     "output_type": "execute_result"
    }
   ],
   "source": [
    "train_all_models(x, y)"
   ]
  },
  {
   "cell_type": "code",
   "execution_count": 54,
   "metadata": {},
   "outputs": [
    {
     "name": "stdout",
     "output_type": "stream",
     "text": [
      "0.833208226993\n"
     ]
    }
   ],
   "source": [
    "print(accuracy)"
   ]
  },
  {
   "cell_type": "code",
   "execution_count": 25,
   "metadata": {},
   "outputs": [],
   "source": [
    "denom = sum(data[p][0].shape[0] for p in part)"
   ]
  },
  {
   "cell_type": "code",
   "execution_count": 26,
   "metadata": {},
   "outputs": [],
   "source": [
    "num = sum(data[p][0].shape[0] * accuracies[p] for p in part)"
   ]
  },
  {
   "cell_type": "code",
   "execution_count": 27,
   "metadata": {},
   "outputs": [
    {
     "name": "stdout",
     "output_type": "stream",
     "text": [
      "0.790384270975\n"
     ]
    }
   ],
   "source": [
    "print(num/denom)"
   ]
  },
  {
   "cell_type": "code",
   "execution_count": 30,
   "metadata": {},
   "outputs": [
    {
     "name": "stdout",
     "output_type": "stream",
     "text": [
      "[[0.35087672935786351, 0.35530856533602284], [0.40798808345342413, 0.40384106538188791], [0.39689234540604512, 0.38849535529802492], [0.43274708995280037, 0.42912059642360056]]\n"
     ]
    }
   ],
   "source": [
    "print(rmse_tes)"
   ]
  }
 ],
 "metadata": {
  "kernelspec": {
   "display_name": "Python 3",
   "language": "python",
   "name": "python3"
  },
  "language_info": {
   "codemirror_mode": {
    "name": "ipython",
    "version": 3
   },
   "file_extension": ".py",
   "mimetype": "text/x-python",
   "name": "python",
   "nbconvert_exporter": "python",
   "pygments_lexer": "ipython3",
   "version": "3.6.1"
  }
 },
 "nbformat": 4,
 "nbformat_minor": 2
}
